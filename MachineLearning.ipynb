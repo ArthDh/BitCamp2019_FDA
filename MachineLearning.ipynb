{
  "nbformat": 4,
  "nbformat_minor": 0,
  "metadata": {
    "colab": {
      "name": "MachineLearning.ipynb",
      "version": "0.3.2",
      "provenance": [],
      "collapsed_sections": []
    },
    "kernelspec": {
      "name": "python3",
      "display_name": "Python 3"
    },
    "accelerator": "TPU"
  },
  "cells": [
    {
      "metadata": {
        "id": "6OxZc4K4kLte",
        "colab_type": "code",
        "outputId": "2816d57d-6bbd-4abd-b12c-22c604dd204e",
        "colab": {
          "base_uri": "https://localhost:8080/",
          "height": 122
        }
      },
      "cell_type": "code",
      "source": [
        "!apt-get install -y -qq software-properties-common python-software-properties module-init-tools\n",
        "!add-apt-repository -y ppa:alessandro-strada/ppa 2>&1 > /dev/null\n",
        "!apt-get update -qq 2>&1 > /dev/null\n",
        "!apt-get -y install -qq google-drive-ocamlfuse fuse\n",
        "from google.colab import auth\n",
        "auth.authenticate_user()\n",
        "from oauth2client.client import GoogleCredentials\n",
        "creds = GoogleCredentials.get_application_default()\n",
        "import getpass\n",
        "!google-drive-ocamlfuse -headless -id={creds.client_id} -secret={creds.client_secret} < /dev/null 2>&1 | grep URL\n",
        "vcode = getpass.getpass()\n",
        "!echo {vcode} | google-drive-ocamlfuse -headless -id={creds.client_id} -secret={creds.client_secret}"
      ],
      "execution_count": 0,
      "outputs": [
        {
          "output_type": "stream",
          "text": [
            "E: Package 'python-software-properties' has no installation candidate\n",
            "Please, open the following URL in a web browser: https://accounts.google.com/o/oauth2/auth?client_id=32555940559.apps.googleusercontent.com&redirect_uri=urn%3Aietf%3Awg%3Aoauth%3A2.0%3Aoob&scope=https%3A%2F%2Fwww.googleapis.com%2Fauth%2Fdrive&response_type=code&access_type=offline&approval_prompt=force\n",
            "··········\n",
            "Please, open the following URL in a web browser: https://accounts.google.com/o/oauth2/auth?client_id=32555940559.apps.googleusercontent.com&redirect_uri=urn%3Aietf%3Awg%3Aoauth%3A2.0%3Aoob&scope=https%3A%2F%2Fwww.googleapis.com%2Fauth%2Fdrive&response_type=code&access_type=offline&approval_prompt=force\n",
            "Please enter the verification code: Access token retrieved correctly.\n"
          ],
          "name": "stdout"
        }
      ]
    },
    {
      "metadata": {
        "id": "SddTqaKVjnjE",
        "colab_type": "code",
        "colab": {}
      },
      "cell_type": "code",
      "source": [
        "!mkdir -p drive\n",
        "!google-drive-ocamlfuse drive"
      ],
      "execution_count": 0,
      "outputs": []
    },
    {
      "metadata": {
        "id": "iIr-p-LXwKa8",
        "colab_type": "code",
        "outputId": "589bd0fb-c5af-4b88-c9b9-0adec5080d25",
        "colab": {
          "base_uri": "https://localhost:8080/",
          "height": 51
        }
      },
      "cell_type": "code",
      "source": [
        "%cd drive"
      ],
      "execution_count": 0,
      "outputs": [
        {
          "output_type": "stream",
          "text": [
            "[Errno 2] No such file or directory: 'drive'\n",
            "/content/drive/Bitcamp-Finra\n"
          ],
          "name": "stdout"
        }
      ]
    },
    {
      "metadata": {
        "id": "88p1YGO-wV0h",
        "colab_type": "code",
        "outputId": "b80bb7f9-9fda-4ed8-e332-d5aadd80b0ec",
        "colab": {
          "base_uri": "https://localhost:8080/",
          "height": 51
        }
      },
      "cell_type": "code",
      "source": [
        "%cd Bitcamp-Finra"
      ],
      "execution_count": 0,
      "outputs": [
        {
          "output_type": "stream",
          "text": [
            "[Errno 2] No such file or directory: 'Bitcamp-Finra'\n",
            "/content/drive/Bitcamp-Finra\n"
          ],
          "name": "stdout"
        }
      ]
    },
    {
      "metadata": {
        "id": "V0pAsfUMzua-",
        "colab_type": "code",
        "colab": {}
      },
      "cell_type": "code",
      "source": [
        "pwd = %pwd"
      ],
      "execution_count": 0,
      "outputs": []
    },
    {
      "metadata": {
        "id": "USvMS2FkwXQK",
        "colab_type": "code",
        "colab": {}
      },
      "cell_type": "code",
      "source": [
        "import pandas as pd\n",
        "import keras\n",
        "import os\n",
        "import numpy as np\n",
        "from keras.models import Sequential\n",
        "from keras.layers import *\n",
        "from sklearn import preprocessing\n",
        "from sklearn.preprocessing import LabelEncoder\n",
        "from sklearn.preprocessing import OneHotEncoder\n",
        "import matplotlib.pyplot as plt\n",
        "from sklearn.cluster import KMeans\n",
        "\n",
        "%matplotlib inline"
      ],
      "execution_count": 0,
      "outputs": []
    },
    {
      "metadata": {
        "id": "sydROH5uwv2M",
        "colab_type": "code",
        "colab": {}
      },
      "cell_type": "code",
      "source": [
        "df = pd.read_pickle(pwd+\"/\"+'df527.pkl')"
      ],
      "execution_count": 0,
      "outputs": []
    },
    {
      "metadata": {
        "id": "Oxg4egbJ0lgQ",
        "colab_type": "code",
        "outputId": "ffe50161-540e-4fa5-9758-f022784c9e02",
        "colab": {
          "base_uri": "https://localhost:8080/",
          "height": 289
        }
      },
      "cell_type": "code",
      "source": [
        "df.head()"
      ],
      "execution_count": 0,
      "outputs": [
        {
          "output_type": "execute_result",
          "data": {
            "text/html": [
              "<div>\n",
              "<style scoped>\n",
              "    .dataframe tbody tr th:only-of-type {\n",
              "        vertical-align: middle;\n",
              "    }\n",
              "\n",
              "    .dataframe tbody tr th {\n",
              "        vertical-align: top;\n",
              "    }\n",
              "\n",
              "    .dataframe thead th {\n",
              "        text-align: right;\n",
              "    }\n",
              "</style>\n",
              "<table border=\"1\" class=\"dataframe\">\n",
              "  <thead>\n",
              "    <tr style=\"text-align: right;\">\n",
              "      <th></th>\n",
              "      <th>Date</th>\n",
              "      <th>Name</th>\n",
              "      <th>Other_Bus</th>\n",
              "      <th>Used_Alias</th>\n",
              "      <th>Job_hops</th>\n",
              "      <th>Fraud_Occured</th>\n",
              "      <th>Current_Firm</th>\n",
              "      <th>Current_Firm_Add</th>\n",
              "    </tr>\n",
              "  </thead>\n",
              "  <tbody>\n",
              "    <tr>\n",
              "      <th>1000016</th>\n",
              "      <td>2019-04-10</td>\n",
              "      <td>KEVIN CIEPLICKI</td>\n",
              "      <td>0</td>\n",
              "      <td>1</td>\n",
              "      <td>5</td>\n",
              "      <td>0</td>\n",
              "      <td>MORGAN STANLEY</td>\n",
              "      <td>2000 WESTCHESTER AVENUE PURCHASE NY</td>\n",
              "    </tr>\n",
              "    <tr>\n",
              "      <th>1000018</th>\n",
              "      <td>2019-04-10</td>\n",
              "      <td>DOUGLAS BATES</td>\n",
              "      <td>1</td>\n",
              "      <td>1</td>\n",
              "      <td>1</td>\n",
              "      <td>0</td>\n",
              "      <td>CLEARWATER ADVISORS, LLC</td>\n",
              "      <td>101 S. CAPITOL BLVD SUITE 1201BOISE ID</td>\n",
              "    </tr>\n",
              "    <tr>\n",
              "      <th>1000034</th>\n",
              "      <td>2019-04-10</td>\n",
              "      <td>STEPHEN BRYARS</td>\n",
              "      <td>1</td>\n",
              "      <td>0</td>\n",
              "      <td>5</td>\n",
              "      <td>1</td>\n",
              "      <td>MML INVESTORS SERVICES, LLC</td>\n",
              "      <td>1295 STATE STREET SPRINGFIELD MA</td>\n",
              "    </tr>\n",
              "    <tr>\n",
              "      <th>1000059</th>\n",
              "      <td>2019-04-10</td>\n",
              "      <td>DOUGLAS GAINES</td>\n",
              "      <td>0</td>\n",
              "      <td>0</td>\n",
              "      <td>1</td>\n",
              "      <td>0</td>\n",
              "      <td>STIFEL, NICOLAUS &amp; COMPANY, INCORPORATED</td>\n",
              "      <td>501 N BROADWAY ST LOUIS MO</td>\n",
              "    </tr>\n",
              "    <tr>\n",
              "      <th>1000066</th>\n",
              "      <td>2019-04-10</td>\n",
              "      <td>DOUGLAS HALLETT</td>\n",
              "      <td>1</td>\n",
              "      <td>1</td>\n",
              "      <td>4</td>\n",
              "      <td>0</td>\n",
              "      <td>SPC</td>\n",
              "      <td>300 PARKLAND PLAZA ANN ARBOR MI</td>\n",
              "    </tr>\n",
              "  </tbody>\n",
              "</table>\n",
              "</div>"
            ],
            "text/plain": [
              "               Date             Name  Other_Bus  Used_Alias  Job_hops  \\\n",
              "1000016  2019-04-10  KEVIN CIEPLICKI          0           1         5   \n",
              "1000018  2019-04-10    DOUGLAS BATES          1           1         1   \n",
              "1000034  2019-04-10   STEPHEN BRYARS          1           0         5   \n",
              "1000059  2019-04-10   DOUGLAS GAINES          0           0         1   \n",
              "1000066  2019-04-10  DOUGLAS HALLETT          1           1         4   \n",
              "\n",
              "         Fraud_Occured                              Current_Firm  \\\n",
              "1000016              0                            MORGAN STANLEY   \n",
              "1000018              0                  CLEARWATER ADVISORS, LLC   \n",
              "1000034              1               MML INVESTORS SERVICES, LLC   \n",
              "1000059              0  STIFEL, NICOLAUS & COMPANY, INCORPORATED   \n",
              "1000066              0                                       SPC   \n",
              "\n",
              "                               Current_Firm_Add  \n",
              "1000016     2000 WESTCHESTER AVENUE PURCHASE NY  \n",
              "1000018  101 S. CAPITOL BLVD SUITE 1201BOISE ID  \n",
              "1000034        1295 STATE STREET SPRINGFIELD MA  \n",
              "1000059              501 N BROADWAY ST LOUIS MO  \n",
              "1000066         300 PARKLAND PLAZA ANN ARBOR MI  "
            ]
          },
          "metadata": {
            "tags": []
          },
          "execution_count": 223
        }
      ]
    },
    {
      "metadata": {
        "id": "hhh3WauM-Sc7",
        "colab_type": "code",
        "outputId": "1a5596a7-e907-4a4b-8570-9c1eeac010e6",
        "colab": {
          "base_uri": "https://localhost:8080/",
          "height": 407
        }
      },
      "cell_type": "code",
      "source": [
        "df.describe(include='all')"
      ],
      "execution_count": 0,
      "outputs": [
        {
          "output_type": "execute_result",
          "data": {
            "text/html": [
              "<div>\n",
              "<style scoped>\n",
              "    .dataframe tbody tr th:only-of-type {\n",
              "        vertical-align: middle;\n",
              "    }\n",
              "\n",
              "    .dataframe tbody tr th {\n",
              "        vertical-align: top;\n",
              "    }\n",
              "\n",
              "    .dataframe thead th {\n",
              "        text-align: right;\n",
              "    }\n",
              "</style>\n",
              "<table border=\"1\" class=\"dataframe\">\n",
              "  <thead>\n",
              "    <tr style=\"text-align: right;\">\n",
              "      <th></th>\n",
              "      <th>Date</th>\n",
              "      <th>Name</th>\n",
              "      <th>Other_Bus</th>\n",
              "      <th>Used_Alias</th>\n",
              "      <th>Job_hops</th>\n",
              "      <th>Fraud_Occured</th>\n",
              "      <th>Current_Firm</th>\n",
              "      <th>Current_Firm_Add</th>\n",
              "    </tr>\n",
              "  </thead>\n",
              "  <tbody>\n",
              "    <tr>\n",
              "      <th>count</th>\n",
              "      <td>353742</td>\n",
              "      <td>353742</td>\n",
              "      <td>353742.000000</td>\n",
              "      <td>353742.000000</td>\n",
              "      <td>353742.000000</td>\n",
              "      <td>353742.000000</td>\n",
              "      <td>353742</td>\n",
              "      <td>353742</td>\n",
              "    </tr>\n",
              "    <tr>\n",
              "      <th>unique</th>\n",
              "      <td>1</td>\n",
              "      <td>311997</td>\n",
              "      <td>NaN</td>\n",
              "      <td>NaN</td>\n",
              "      <td>NaN</td>\n",
              "      <td>NaN</td>\n",
              "      <td>22904</td>\n",
              "      <td>18811</td>\n",
              "    </tr>\n",
              "    <tr>\n",
              "      <th>top</th>\n",
              "      <td>2019-04-10</td>\n",
              "      <td>MICHAEL SMITH</td>\n",
              "      <td>NaN</td>\n",
              "      <td>NaN</td>\n",
              "      <td>NaN</td>\n",
              "      <td>NaN</td>\n",
              "      <td>MERRILL LYNCH, PIERCE, FENNER &amp; SMITH INCORPOR...</td>\n",
              "      <td>ONE BRYANT PARK NEW YORK NY</td>\n",
              "    </tr>\n",
              "    <tr>\n",
              "      <th>freq</th>\n",
              "      <td>353742</td>\n",
              "      <td>63</td>\n",
              "      <td>NaN</td>\n",
              "      <td>NaN</td>\n",
              "      <td>NaN</td>\n",
              "      <td>NaN</td>\n",
              "      <td>27209</td>\n",
              "      <td>27209</td>\n",
              "    </tr>\n",
              "    <tr>\n",
              "      <th>mean</th>\n",
              "      <td>NaN</td>\n",
              "      <td>NaN</td>\n",
              "      <td>0.539365</td>\n",
              "      <td>0.567272</td>\n",
              "      <td>4.301417</td>\n",
              "      <td>0.192615</td>\n",
              "      <td>NaN</td>\n",
              "      <td>NaN</td>\n",
              "    </tr>\n",
              "    <tr>\n",
              "      <th>std</th>\n",
              "      <td>NaN</td>\n",
              "      <td>NaN</td>\n",
              "      <td>0.498449</td>\n",
              "      <td>0.495454</td>\n",
              "      <td>3.011035</td>\n",
              "      <td>0.394354</td>\n",
              "      <td>NaN</td>\n",
              "      <td>NaN</td>\n",
              "    </tr>\n",
              "    <tr>\n",
              "      <th>min</th>\n",
              "      <td>NaN</td>\n",
              "      <td>NaN</td>\n",
              "      <td>0.000000</td>\n",
              "      <td>0.000000</td>\n",
              "      <td>0.000000</td>\n",
              "      <td>0.000000</td>\n",
              "      <td>NaN</td>\n",
              "      <td>NaN</td>\n",
              "    </tr>\n",
              "    <tr>\n",
              "      <th>25%</th>\n",
              "      <td>NaN</td>\n",
              "      <td>NaN</td>\n",
              "      <td>0.000000</td>\n",
              "      <td>0.000000</td>\n",
              "      <td>2.000000</td>\n",
              "      <td>0.000000</td>\n",
              "      <td>NaN</td>\n",
              "      <td>NaN</td>\n",
              "    </tr>\n",
              "    <tr>\n",
              "      <th>50%</th>\n",
              "      <td>NaN</td>\n",
              "      <td>NaN</td>\n",
              "      <td>1.000000</td>\n",
              "      <td>1.000000</td>\n",
              "      <td>3.000000</td>\n",
              "      <td>0.000000</td>\n",
              "      <td>NaN</td>\n",
              "      <td>NaN</td>\n",
              "    </tr>\n",
              "    <tr>\n",
              "      <th>75%</th>\n",
              "      <td>NaN</td>\n",
              "      <td>NaN</td>\n",
              "      <td>1.000000</td>\n",
              "      <td>1.000000</td>\n",
              "      <td>6.000000</td>\n",
              "      <td>0.000000</td>\n",
              "      <td>NaN</td>\n",
              "      <td>NaN</td>\n",
              "    </tr>\n",
              "    <tr>\n",
              "      <th>max</th>\n",
              "      <td>NaN</td>\n",
              "      <td>NaN</td>\n",
              "      <td>1.000000</td>\n",
              "      <td>1.000000</td>\n",
              "      <td>74.000000</td>\n",
              "      <td>1.000000</td>\n",
              "      <td>NaN</td>\n",
              "      <td>NaN</td>\n",
              "    </tr>\n",
              "  </tbody>\n",
              "</table>\n",
              "</div>"
            ],
            "text/plain": [
              "              Date           Name      Other_Bus     Used_Alias  \\\n",
              "count       353742         353742  353742.000000  353742.000000   \n",
              "unique           1         311997            NaN            NaN   \n",
              "top     2019-04-10  MICHAEL SMITH            NaN            NaN   \n",
              "freq        353742             63            NaN            NaN   \n",
              "mean           NaN            NaN       0.539365       0.567272   \n",
              "std            NaN            NaN       0.498449       0.495454   \n",
              "min            NaN            NaN       0.000000       0.000000   \n",
              "25%            NaN            NaN       0.000000       0.000000   \n",
              "50%            NaN            NaN       1.000000       1.000000   \n",
              "75%            NaN            NaN       1.000000       1.000000   \n",
              "max            NaN            NaN       1.000000       1.000000   \n",
              "\n",
              "             Job_hops  Fraud_Occured  \\\n",
              "count   353742.000000  353742.000000   \n",
              "unique            NaN            NaN   \n",
              "top               NaN            NaN   \n",
              "freq              NaN            NaN   \n",
              "mean         4.301417       0.192615   \n",
              "std          3.011035       0.394354   \n",
              "min          0.000000       0.000000   \n",
              "25%          2.000000       0.000000   \n",
              "50%          3.000000       0.000000   \n",
              "75%          6.000000       0.000000   \n",
              "max         74.000000       1.000000   \n",
              "\n",
              "                                             Current_Firm  \\\n",
              "count                                              353742   \n",
              "unique                                              22904   \n",
              "top     MERRILL LYNCH, PIERCE, FENNER & SMITH INCORPOR...   \n",
              "freq                                                27209   \n",
              "mean                                                  NaN   \n",
              "std                                                   NaN   \n",
              "min                                                   NaN   \n",
              "25%                                                   NaN   \n",
              "50%                                                   NaN   \n",
              "75%                                                   NaN   \n",
              "max                                                   NaN   \n",
              "\n",
              "                   Current_Firm_Add  \n",
              "count                        353742  \n",
              "unique                        18811  \n",
              "top     ONE BRYANT PARK NEW YORK NY  \n",
              "freq                          27209  \n",
              "mean                            NaN  \n",
              "std                             NaN  \n",
              "min                             NaN  \n",
              "25%                             NaN  \n",
              "50%                             NaN  \n",
              "75%                             NaN  \n",
              "max                             NaN  "
            ]
          },
          "metadata": {
            "tags": []
          },
          "execution_count": 224
        }
      ]
    },
    {
      "metadata": {
        "id": "97AlN7So70OM",
        "colab_type": "code",
        "colab": {}
      },
      "cell_type": "code",
      "source": [
        "features = ['Used_Alias', 'Job_hops', 'Current_Firm', 'Other_Bus']"
      ],
      "execution_count": 0,
      "outputs": []
    },
    {
      "metadata": {
        "id": "1fSzPC8R8pbS",
        "colab_type": "code",
        "colab": {}
      },
      "cell_type": "code",
      "source": [
        "df_train = df[features]\n",
        "df_labels = df[['Fraud_Occured']]"
      ],
      "execution_count": 0,
      "outputs": []
    },
    {
      "metadata": {
        "id": "Z0-EEoE88tri",
        "colab_type": "code",
        "outputId": "4a0312a8-1424-4fc9-cf74-2fae6d48e902",
        "colab": {
          "base_uri": "https://localhost:8080/",
          "height": 204
        }
      },
      "cell_type": "code",
      "source": [
        "df_train.head()"
      ],
      "execution_count": 0,
      "outputs": [
        {
          "output_type": "execute_result",
          "data": {
            "text/html": [
              "<div>\n",
              "<style scoped>\n",
              "    .dataframe tbody tr th:only-of-type {\n",
              "        vertical-align: middle;\n",
              "    }\n",
              "\n",
              "    .dataframe tbody tr th {\n",
              "        vertical-align: top;\n",
              "    }\n",
              "\n",
              "    .dataframe thead th {\n",
              "        text-align: right;\n",
              "    }\n",
              "</style>\n",
              "<table border=\"1\" class=\"dataframe\">\n",
              "  <thead>\n",
              "    <tr style=\"text-align: right;\">\n",
              "      <th></th>\n",
              "      <th>Used_Alias</th>\n",
              "      <th>Job_hops</th>\n",
              "      <th>Current_Firm</th>\n",
              "      <th>Other_Bus</th>\n",
              "    </tr>\n",
              "  </thead>\n",
              "  <tbody>\n",
              "    <tr>\n",
              "      <th>1000016</th>\n",
              "      <td>1</td>\n",
              "      <td>5</td>\n",
              "      <td>MORGAN STANLEY</td>\n",
              "      <td>0</td>\n",
              "    </tr>\n",
              "    <tr>\n",
              "      <th>1000018</th>\n",
              "      <td>1</td>\n",
              "      <td>1</td>\n",
              "      <td>CLEARWATER ADVISORS, LLC</td>\n",
              "      <td>1</td>\n",
              "    </tr>\n",
              "    <tr>\n",
              "      <th>1000034</th>\n",
              "      <td>0</td>\n",
              "      <td>5</td>\n",
              "      <td>MML INVESTORS SERVICES, LLC</td>\n",
              "      <td>1</td>\n",
              "    </tr>\n",
              "    <tr>\n",
              "      <th>1000059</th>\n",
              "      <td>0</td>\n",
              "      <td>1</td>\n",
              "      <td>STIFEL, NICOLAUS &amp; COMPANY, INCORPORATED</td>\n",
              "      <td>0</td>\n",
              "    </tr>\n",
              "    <tr>\n",
              "      <th>1000066</th>\n",
              "      <td>1</td>\n",
              "      <td>4</td>\n",
              "      <td>SPC</td>\n",
              "      <td>1</td>\n",
              "    </tr>\n",
              "  </tbody>\n",
              "</table>\n",
              "</div>"
            ],
            "text/plain": [
              "         Used_Alias  Job_hops                              Current_Firm  \\\n",
              "1000016           1         5                            MORGAN STANLEY   \n",
              "1000018           1         1                  CLEARWATER ADVISORS, LLC   \n",
              "1000034           0         5               MML INVESTORS SERVICES, LLC   \n",
              "1000059           0         1  STIFEL, NICOLAUS & COMPANY, INCORPORATED   \n",
              "1000066           1         4                                       SPC   \n",
              "\n",
              "         Other_Bus  \n",
              "1000016          0  \n",
              "1000018          1  \n",
              "1000034          1  \n",
              "1000059          0  \n",
              "1000066          1  "
            ]
          },
          "metadata": {
            "tags": []
          },
          "execution_count": 227
        }
      ]
    },
    {
      "metadata": {
        "id": "ShjPaGy9AdNs",
        "colab_type": "code",
        "outputId": "23dd90d1-77dd-45a5-d7ff-654de6318a27",
        "colab": {
          "base_uri": "https://localhost:8080/",
          "height": 204
        }
      },
      "cell_type": "code",
      "source": [
        "df_labels.head()"
      ],
      "execution_count": 0,
      "outputs": [
        {
          "output_type": "execute_result",
          "data": {
            "text/html": [
              "<div>\n",
              "<style scoped>\n",
              "    .dataframe tbody tr th:only-of-type {\n",
              "        vertical-align: middle;\n",
              "    }\n",
              "\n",
              "    .dataframe tbody tr th {\n",
              "        vertical-align: top;\n",
              "    }\n",
              "\n",
              "    .dataframe thead th {\n",
              "        text-align: right;\n",
              "    }\n",
              "</style>\n",
              "<table border=\"1\" class=\"dataframe\">\n",
              "  <thead>\n",
              "    <tr style=\"text-align: right;\">\n",
              "      <th></th>\n",
              "      <th>Fraud_Occured</th>\n",
              "    </tr>\n",
              "  </thead>\n",
              "  <tbody>\n",
              "    <tr>\n",
              "      <th>1000016</th>\n",
              "      <td>0</td>\n",
              "    </tr>\n",
              "    <tr>\n",
              "      <th>1000018</th>\n",
              "      <td>0</td>\n",
              "    </tr>\n",
              "    <tr>\n",
              "      <th>1000034</th>\n",
              "      <td>1</td>\n",
              "    </tr>\n",
              "    <tr>\n",
              "      <th>1000059</th>\n",
              "      <td>0</td>\n",
              "    </tr>\n",
              "    <tr>\n",
              "      <th>1000066</th>\n",
              "      <td>0</td>\n",
              "    </tr>\n",
              "  </tbody>\n",
              "</table>\n",
              "</div>"
            ],
            "text/plain": [
              "         Fraud_Occured\n",
              "1000016              0\n",
              "1000018              0\n",
              "1000034              1\n",
              "1000059              0\n",
              "1000066              0"
            ]
          },
          "metadata": {
            "tags": []
          },
          "execution_count": 228
        }
      ]
    },
    {
      "metadata": {
        "id": "AC2YjqRiFvo7",
        "colab_type": "code",
        "outputId": "f20f307b-7b69-4708-b3b8-f3ad7982f2cc",
        "colab": {
          "base_uri": "https://localhost:8080/",
          "height": 34
        }
      },
      "cell_type": "code",
      "source": [
        "(df.groupby('Current_Firm')['Fraud_Occured'].sum()).idxmax(), max(df.groupby('Current_Firm')['Fraud_Occured'].sum())"
      ],
      "execution_count": 0,
      "outputs": [
        {
          "output_type": "execute_result",
          "data": {
            "text/plain": [
              "('MERRILL LYNCH, PIERCE, FENNER & SMITH INCORPORATED', 5143)"
            ]
          },
          "metadata": {
            "tags": []
          },
          "execution_count": 229
        }
      ]
    },
    {
      "metadata": {
        "id": "EuMPgzvFJFxq",
        "colab_type": "code",
        "outputId": "7faa6188-7475-460c-b602-ce9392651c4a",
        "colab": {
          "base_uri": "https://localhost:8080/",
          "height": 68
        }
      },
      "cell_type": "code",
      "source": [
        "df_labels['Fraud_Occured'].value_counts()"
      ],
      "execution_count": 0,
      "outputs": [
        {
          "output_type": "execute_result",
          "data": {
            "text/plain": [
              "0    285606\n",
              "1     68136\n",
              "Name: Fraud_Occured, dtype: int64"
            ]
          },
          "metadata": {
            "tags": []
          },
          "execution_count": 230
        }
      ]
    },
    {
      "metadata": {
        "id": "admtKNm3Ehkl",
        "colab_type": "code",
        "colab": {}
      },
      "cell_type": "code",
      "source": [
        "data = df_train.to_numpy()\n",
        "labels = df_labels.to_numpy()"
      ],
      "execution_count": 0,
      "outputs": []
    },
    {
      "metadata": {
        "id": "qz2iAYxYT8WC",
        "colab_type": "code",
        "colab": {}
      },
      "cell_type": "code",
      "source": [
        "label_encoder = LabelEncoder()\n",
        "data[:,2] = label_encoder.fit_transform(data[:,2])"
      ],
      "execution_count": 0,
      "outputs": []
    },
    {
      "metadata": {
        "id": "j39irn1YXh1h",
        "colab_type": "code",
        "outputId": "a0ea69b1-06b6-4b09-e782-5609a2d7c7a5",
        "colab": {
          "base_uri": "https://localhost:8080/",
          "height": 34
        }
      },
      "cell_type": "code",
      "source": [
        "data[:,1]"
      ],
      "execution_count": 0,
      "outputs": [
        {
          "output_type": "execute_result",
          "data": {
            "text/plain": [
              "array([5, 1, 5, ..., 1, 3, 3], dtype=object)"
            ]
          },
          "metadata": {
            "tags": []
          },
          "execution_count": 233
        }
      ]
    },
    {
      "metadata": {
        "colab_type": "code",
        "outputId": "d88a755d-ce7c-4d87-baac-927dee0aa8fe",
        "id": "rC7PNNTsYsjv",
        "colab": {
          "base_uri": "https://localhost:8080/",
          "height": 105
        }
      },
      "cell_type": "code",
      "source": [
        "scaler = preprocessing.StandardScaler()\n",
        "features_standardized = scaler.fit_transform(data)"
      ],
      "execution_count": 0,
      "outputs": [
        {
          "output_type": "stream",
          "text": [
            "/usr/local/lib/python3.6/dist-packages/sklearn/utils/validation.py:595: DataConversionWarning: Data with input dtype object was converted to float64 by StandardScaler.\n",
            "  warnings.warn(msg, DataConversionWarning)\n",
            "/usr/local/lib/python3.6/dist-packages/sklearn/utils/validation.py:595: DataConversionWarning: Data with input dtype object was converted to float64 by StandardScaler.\n",
            "  warnings.warn(msg, DataConversionWarning)\n"
          ],
          "name": "stderr"
        }
      ]
    },
    {
      "metadata": {
        "id": "O8wc5D4qY77V",
        "colab_type": "code",
        "colab": {}
      },
      "cell_type": "code",
      "source": [
        "k = 330000\n",
        "training_data = features_standardized[:k]\n",
        "training_labels = labels[:k]\n",
        "val_data = features_standardized[k:]\n",
        "val_labels = labels[k:]"
      ],
      "execution_count": 0,
      "outputs": []
    },
    {
      "metadata": {
        "colab_type": "code",
        "id": "MTr93XcZT76G",
        "colab": {}
      },
      "cell_type": "code",
      "source": [
        "model = Sequential()\n",
        "model.add(Dense(32, input_dim=4, activation='relu'))\n",
        "model.add(Dropout(0.5))\n",
        "model.add(BatchNormalization())\n",
        "model.add(Dense(64, activation='relu'))\n",
        "model.add(BatchNormalization())\n",
        "model.add(Dropout(0.5))\n",
        "model.add(Dense(64, activation='relu'))\n",
        "model.add(BatchNormalization())\n",
        "model.add(Dense(1, activation='sigmoid'))"
      ],
      "execution_count": 0,
      "outputs": []
    },
    {
      "metadata": {
        "id": "RoPvUPbQ6N9i",
        "colab_type": "code",
        "colab": {}
      },
      "cell_type": "code",
      "source": [
        "model.compile(loss='binary_crossentropy',\n",
        "              optimizer='ADAM')"
      ],
      "execution_count": 0,
      "outputs": []
    },
    {
      "metadata": {
        "id": "ghFlyw0_ZMp5",
        "colab_type": "code",
        "outputId": "39ce3dee-8eeb-4bac-b7c5-f445d8e09a27",
        "colab": {
          "base_uri": "https://localhost:8080/",
          "height": 442
        }
      },
      "cell_type": "code",
      "source": [
        "model.summary()"
      ],
      "execution_count": 0,
      "outputs": [
        {
          "output_type": "stream",
          "text": [
            "_________________________________________________________________\n",
            "Layer (type)                 Output Shape              Param #   \n",
            "=================================================================\n",
            "dense_39 (Dense)             (None, 32)                160       \n",
            "_________________________________________________________________\n",
            "dropout_26 (Dropout)         (None, 32)                0         \n",
            "_________________________________________________________________\n",
            "batch_normalization_15 (Batc (None, 32)                128       \n",
            "_________________________________________________________________\n",
            "dense_40 (Dense)             (None, 64)                2112      \n",
            "_________________________________________________________________\n",
            "batch_normalization_16 (Batc (None, 64)                256       \n",
            "_________________________________________________________________\n",
            "dropout_27 (Dropout)         (None, 64)                0         \n",
            "_________________________________________________________________\n",
            "dense_41 (Dense)             (None, 64)                4160      \n",
            "_________________________________________________________________\n",
            "batch_normalization_17 (Batc (None, 64)                256       \n",
            "_________________________________________________________________\n",
            "dense_42 (Dense)             (None, 1)                 65        \n",
            "=================================================================\n",
            "Total params: 7,137\n",
            "Trainable params: 6,817\n",
            "Non-trainable params: 320\n",
            "_________________________________________________________________\n"
          ],
          "name": "stdout"
        }
      ]
    },
    {
      "metadata": {
        "id": "viZVItG1ajSs",
        "colab_type": "code",
        "colab": {}
      },
      "cell_type": "code",
      "source": [
        "callbacks_list = [\n",
        "        keras.callbacks.ReduceLROnPlateau(\n",
        "            monitor='loss',\n",
        "            factor=0.1,\n",
        "            patience=5,\n",
        "        ),\n",
        "        keras.callbacks.ModelCheckpoint(\n",
        "            filepath=pwd+\"/\" +\"Finra.h5\",\n",
        "            monitor='loss',\n",
        "            save_best_only=True,\n",
        "        ),\n",
        "]"
      ],
      "execution_count": 0,
      "outputs": []
    },
    {
      "metadata": {
        "id": "e-ECJfeGZw8s",
        "colab_type": "code",
        "outputId": "6f80c201-2a39-4087-8670-c8b6cc993aea",
        "colab": {
          "base_uri": "https://localhost:8080/",
          "height": 1734
        }
      },
      "cell_type": "code",
      "source": [
        "epochs = 50\n",
        "history = model.fit(training_data, training_labels, batch_size=2028, epochs=epochs, verbose =1,\\\n",
        "          callbacks = callbacks_list, validation_data = (val_data,val_labels) )"
      ],
      "execution_count": 0,
      "outputs": [
        {
          "output_type": "stream",
          "text": [
            "Train on 330000 samples, validate on 23742 samples\n",
            "Epoch 1/50\n",
            "330000/330000 [==============================] - 6s 17us/step - loss: 0.5842 - val_loss: 0.4543\n",
            "Epoch 2/50\n",
            "330000/330000 [==============================] - 3s 10us/step - loss: 0.4947 - val_loss: 0.4541\n",
            "Epoch 3/50\n",
            "330000/330000 [==============================] - 3s 10us/step - loss: 0.4908 - val_loss: 0.4476\n",
            "Epoch 4/50\n",
            "330000/330000 [==============================] - 3s 10us/step - loss: 0.4891 - val_loss: 0.4500\n",
            "Epoch 5/50\n",
            "330000/330000 [==============================] - 3s 10us/step - loss: 0.4880 - val_loss: 0.4483\n",
            "Epoch 6/50\n",
            "330000/330000 [==============================] - 3s 10us/step - loss: 0.4879 - val_loss: 0.4469\n",
            "Epoch 7/50\n",
            "330000/330000 [==============================] - 3s 10us/step - loss: 0.4873 - val_loss: 0.4478\n",
            "Epoch 8/50\n",
            "330000/330000 [==============================] - 3s 10us/step - loss: 0.4869 - val_loss: 0.4505\n",
            "Epoch 9/50\n",
            "330000/330000 [==============================] - 3s 10us/step - loss: 0.4865 - val_loss: 0.4524\n",
            "Epoch 10/50\n",
            "330000/330000 [==============================] - 3s 10us/step - loss: 0.4866 - val_loss: 0.4499\n",
            "Epoch 11/50\n",
            "330000/330000 [==============================] - 3s 10us/step - loss: 0.4861 - val_loss: 0.4491\n",
            "Epoch 12/50\n",
            "330000/330000 [==============================] - 3s 10us/step - loss: 0.4859 - val_loss: 0.4482\n",
            "Epoch 13/50\n",
            "330000/330000 [==============================] - 3s 10us/step - loss: 0.4860 - val_loss: 0.4494\n",
            "Epoch 14/50\n",
            "330000/330000 [==============================] - 3s 10us/step - loss: 0.4859 - val_loss: 0.4486\n",
            "Epoch 15/50\n",
            "330000/330000 [==============================] - 3s 10us/step - loss: 0.4859 - val_loss: 0.4515\n",
            "Epoch 16/50\n",
            "330000/330000 [==============================] - 3s 10us/step - loss: 0.4856 - val_loss: 0.4481\n",
            "Epoch 17/50\n",
            "330000/330000 [==============================] - 3s 10us/step - loss: 0.4856 - val_loss: 0.4510\n",
            "Epoch 18/50\n",
            "330000/330000 [==============================] - 3s 10us/step - loss: 0.4854 - val_loss: 0.4483\n",
            "Epoch 19/50\n",
            "330000/330000 [==============================] - 3s 10us/step - loss: 0.4854 - val_loss: 0.4462\n",
            "Epoch 20/50\n",
            "330000/330000 [==============================] - 3s 10us/step - loss: 0.4853 - val_loss: 0.4503\n",
            "Epoch 21/50\n",
            "330000/330000 [==============================] - 3s 10us/step - loss: 0.4852 - val_loss: 0.4509\n",
            "Epoch 22/50\n",
            "330000/330000 [==============================] - 3s 10us/step - loss: 0.4851 - val_loss: 0.4505\n",
            "Epoch 23/50\n",
            "330000/330000 [==============================] - 3s 10us/step - loss: 0.4851 - val_loss: 0.4468\n",
            "Epoch 24/50\n",
            "330000/330000 [==============================] - 3s 10us/step - loss: 0.4851 - val_loss: 0.4466\n",
            "Epoch 25/50\n",
            "330000/330000 [==============================] - 3s 10us/step - loss: 0.4849 - val_loss: 0.4480\n",
            "Epoch 26/50\n",
            "330000/330000 [==============================] - 3s 10us/step - loss: 0.4850 - val_loss: 0.4476\n",
            "Epoch 27/50\n",
            "330000/330000 [==============================] - 3s 10us/step - loss: 0.4848 - val_loss: 0.4478\n",
            "Epoch 28/50\n",
            "330000/330000 [==============================] - 3s 10us/step - loss: 0.4849 - val_loss: 0.4497\n",
            "Epoch 29/50\n",
            "330000/330000 [==============================] - 3s 10us/step - loss: 0.4848 - val_loss: 0.4462\n",
            "Epoch 30/50\n",
            "330000/330000 [==============================] - 3s 10us/step - loss: 0.4847 - val_loss: 0.4487\n",
            "Epoch 31/50\n",
            "330000/330000 [==============================] - 3s 10us/step - loss: 0.4847 - val_loss: 0.4470\n",
            "Epoch 32/50\n",
            "330000/330000 [==============================] - 3s 10us/step - loss: 0.4847 - val_loss: 0.4464\n",
            "Epoch 33/50\n",
            "330000/330000 [==============================] - 3s 10us/step - loss: 0.4845 - val_loss: 0.4468\n",
            "Epoch 34/50\n",
            "330000/330000 [==============================] - 3s 10us/step - loss: 0.4846 - val_loss: 0.4491\n",
            "Epoch 35/50\n",
            "330000/330000 [==============================] - 3s 10us/step - loss: 0.4844 - val_loss: 0.4453\n",
            "Epoch 36/50\n",
            "330000/330000 [==============================] - 3s 10us/step - loss: 0.4844 - val_loss: 0.4502\n",
            "Epoch 37/50\n",
            "330000/330000 [==============================] - 3s 10us/step - loss: 0.4844 - val_loss: 0.4488\n",
            "Epoch 38/50\n",
            "330000/330000 [==============================] - 3s 10us/step - loss: 0.4842 - val_loss: 0.4469\n",
            "Epoch 39/50\n",
            "330000/330000 [==============================] - 3s 10us/step - loss: 0.4842 - val_loss: 0.4469\n",
            "Epoch 40/50\n",
            "330000/330000 [==============================] - 3s 10us/step - loss: 0.4843 - val_loss: 0.4465\n",
            "Epoch 41/50\n",
            "330000/330000 [==============================] - 3s 10us/step - loss: 0.4843 - val_loss: 0.4492\n",
            "Epoch 42/50\n",
            "330000/330000 [==============================] - 3s 10us/step - loss: 0.4842 - val_loss: 0.4482\n",
            "Epoch 43/50\n",
            "330000/330000 [==============================] - 3s 10us/step - loss: 0.4843 - val_loss: 0.4456\n",
            "Epoch 44/50\n",
            "330000/330000 [==============================] - 3s 10us/step - loss: 0.4840 - val_loss: 0.4471\n",
            "Epoch 45/50\n",
            "330000/330000 [==============================] - 3s 10us/step - loss: 0.4839 - val_loss: 0.4466\n",
            "Epoch 46/50\n",
            "330000/330000 [==============================] - 3s 10us/step - loss: 0.4839 - val_loss: 0.4466\n",
            "Epoch 47/50\n",
            "330000/330000 [==============================] - 3s 10us/step - loss: 0.4838 - val_loss: 0.4468\n",
            "Epoch 48/50\n",
            "330000/330000 [==============================] - 3s 10us/step - loss: 0.4839 - val_loss: 0.4470\n",
            "Epoch 49/50\n",
            "330000/330000 [==============================] - 3s 10us/step - loss: 0.4839 - val_loss: 0.4467\n",
            "Epoch 50/50\n",
            "330000/330000 [==============================] - 3s 10us/step - loss: 0.4838 - val_loss: 0.4467\n"
          ],
          "name": "stdout"
        }
      ]
    },
    {
      "metadata": {
        "id": "gR0ULzHsaC-P",
        "colab_type": "code",
        "outputId": "62c607c6-1ac5-4c89-84b5-6c5d71e068ff",
        "colab": {
          "base_uri": "https://localhost:8080/",
          "height": 281
        }
      },
      "cell_type": "code",
      "source": [
        "loss = history.history['loss']\n",
        "# val_loss = history.history['val_loss']\n",
        "epochs = range(1, len(loss) + 1)\n",
        "plt.figure()\n",
        "plt.plot(epochs, loss, 'bo', label='Training loss')\n",
        "# plt.plot(epochs, val_loss, 'b', label='Validation loss')\n",
        "plt.title('Training and validation loss')\n",
        "plt.legend()\n",
        "plt.show()"
      ],
      "execution_count": 0,
      "outputs": [
        {
          "output_type": "display_data",
          "data": {
            "image/png": "[encoded data removed]",
            "text/plain": [
              "<Figure size 432x288 with 1 Axes>"
            ]
          },
          "metadata": {
            "tags": []
          }
        }
      ]
    }
  ]
}